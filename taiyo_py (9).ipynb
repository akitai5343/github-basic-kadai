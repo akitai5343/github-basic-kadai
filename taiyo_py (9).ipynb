{
  "nbformat": 4,
  "nbformat_minor": 0,
  "metadata": {
    "colab": {
      "provenance": [],
      "gpuType": "T4"
    },
    "kernelspec": {
      "name": "python3",
      "display_name": "Python 3"
    },
    "language_info": {
      "name": "python"
    },
    "accelerator": "GPU"
  },
  "cells": [
    {
      "cell_type": "code",
      "source": [
        "class Human():\n",
        "    def __init__(self,name,age):\n",
        "            self.name=name\n",
        "            self.age=age\n",
        "    def check_adult(self):\n",
        "        if self.age> 20 :\n",
        "            print(self.name,\"は大人です\")\n",
        "        else:\n",
        "            print(self.name,\"は大人ではないです\")\n",
        "\n",
        "Human1=Human(\"太郎\",19)\n",
        "Human2=Human(\"花子\",20)\n",
        "Human3=Human(\"次郎\",21)\n",
        "humans_list=[Human1,Human2,Human3]\n",
        "for Human in humans_list:\n",
        "    Human.check_adult()"
      ],
      "metadata": {
        "colab": {
          "base_uri": "https://localhost:8080/"
        },
        "id": "vJL6pD44-c1d",
        "outputId": "0c4d4f79-d216-48b4-f425-ae8012a7d52d"
      },
      "execution_count": 2,
      "outputs": [
        {
          "output_type": "stream",
          "name": "stdout",
          "text": [
            "太郎 は大人ではないです\n",
            "花子 は大人ではないです\n",
            "次郎 は大人です\n"
          ]
        }
      ]
    },
    {
      "cell_type": "code",
      "source": [],
      "metadata": {
        "id": "vv_kZTwp-dw2"
      },
      "execution_count": null,
      "outputs": []
    }
  ]
}