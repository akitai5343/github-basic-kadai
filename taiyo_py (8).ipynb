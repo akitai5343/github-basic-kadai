{
  "nbformat": 4,
  "nbformat_minor": 0,
  "metadata": {
    "colab": {
      "provenance": [],
      "gpuType": "T4"
    },
    "kernelspec": {
      "name": "python3",
      "display_name": "Python 3"
    },
    "language_info": {
      "name": "python"
    },
    "accelerator": "GPU"
  },
  "cells": [
    {
      "cell_type": "code",
      "source": [
        "person_age={\"太郎\":21,\"花子\":18,\"次郎\":20}\n",
        "class Human():\n",
        "    def __init__(self):\n",
        "        self.name=name\n",
        "        self.age=age\n",
        "    def check_adult(self):\n",
        "        if self.age> 20 :\n",
        "            print(self.name,\"は大人です\")\n",
        "        else:\n",
        "            print(self.name,\"は大人ではないです\")\n",
        "for name ,age in person_age.items():\n",
        "    human=Human()\n",
        "    human.check_adult()"
      ],
      "metadata": {
        "id": "jZaQkOSd8732",
        "colab": {
          "base_uri": "https://localhost:8080/"
        },
        "outputId": "e20e457e-13df-4dc1-f0b8-5db199da1c50"
      },
      "execution_count": 1,
      "outputs": [
        {
          "output_type": "stream",
          "name": "stdout",
          "text": [
            "太郎 は大人です\n",
            "花子 は大人ではないです\n",
            "次郎 は大人ではないです\n"
          ]
        }
      ]
    },
    {
      "cell_type": "code",
      "source": [],
      "metadata": {
        "id": "STDT2QmgwAaN"
      },
      "execution_count": null,
      "outputs": []
    }
  ]
}