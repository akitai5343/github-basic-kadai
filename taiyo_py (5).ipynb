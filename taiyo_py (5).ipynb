{
  "nbformat": 4,
  "nbformat_minor": 0,
  "metadata": {
    "colab": {
      "provenance": [],
      "gpuType": "T4"
    },
    "kernelspec": {
      "name": "python3",
      "display_name": "Python 3"
    },
    "language_info": {
      "name": "python"
    },
    "accelerator": "GPU"
  },
  "cells": [
    {
      "cell_type": "code",
      "source": [
        "array=[\"月曜日は晴れです\",\"火曜日は雨です\",\"水曜日は晴れです\",\"木曜日は晴れです\",\"金曜日は曇りです\",\"度予備は曇りのち晴れです\",\"日曜日は雷雨です\"]\n",
        "print(array[2])\n"
      ],
      "metadata": {
        "id": "Nt7jOkfQ2ECf",
        "colab": {
          "base_uri": "https://localhost:8080/"
        },
        "outputId": "b175b4c4-5501-4864-f390-e9d116beb00f"
      },
      "execution_count": null,
      "outputs": [
        {
          "output_type": "stream",
          "name": "stdout",
          "text": [
            "水曜日は晴れです\n"
          ]
        }
      ]
    },
    {
      "cell_type": "code",
      "source": [
        "dictionary={\"mon\":\"晴れ\",\"tue\":\"雨\",\"wed\":\"晴れ\",\"thu\":\"晴れ\",\"fri\":\"曇り\",\"sat\":\"曇りのち雨\",\"sun\":\"雷雨\"}\n",
        "print(dictionary[\"wed\"])"
      ],
      "metadata": {
        "colab": {
          "base_uri": "https://localhost:8080/"
        },
        "id": "Izmm6br3wdIe",
        "outputId": "7b2f3850-a18a-4a53-a133-2cea3fd6f0a1"
      },
      "execution_count": null,
      "outputs": [
        {
          "output_type": "stream",
          "name": "stdout",
          "text": [
            "晴れ\n"
          ]
        }
      ]
    },
    {
      "cell_type": "code",
      "source": [
        "import random\n",
        "var =random.randint(0,50)\n",
        "if var%5==0 and var%3==0:\n",
        "    print(\"FizzBuzz\")\n",
        "elif var % 5==0:\n",
        "    print(\"Buzz\")\n",
        "elif  var % 3==0:\n",
        "    print(\"Fizz\")\n",
        "else:\n",
        "    print(var)\n",
        ""
      ],
      "metadata": {
        "id": "RS5R_wtayl_P",
        "colab": {
          "base_uri": "https://localhost:8080/"
        },
        "outputId": "fe695d3a-1359-4e75-96c3-caabe39286c5"
      },
      "execution_count": 1,
      "outputs": [
        {
          "output_type": "stream",
          "name": "stdout",
          "text": [
            "43\n"
          ]
        }
      ]
    },
    {
      "cell_type": "code",
      "source": [],
      "metadata": {
        "id": "UyRWt-m0EZ7b"
      },
      "execution_count": null,
      "outputs": []
    }
  ]
}