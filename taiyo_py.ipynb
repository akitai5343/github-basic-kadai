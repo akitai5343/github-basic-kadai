{
  "nbformat": 4,
  "nbformat_minor": 0,
  "metadata": {
    "colab": {
      "provenance": [],
      "gpuType": "T4"
    },
    "kernelspec": {
      "name": "python3",
      "display_name": "Python 3"
    },
    "language_info": {
      "name": "python"
    },
    "accelerator": "GPU"
  },
  "cells": [
    {
      "cell_type": "code",
      "source": [
        "array = [\"水\",\"金\",\"地\",\"火\",\"木\",\"土\",\"天\",\"海\",\"冥\"]\n",
        "\n",
        "for i in range(2):\n",
        "    for arrays in array:\n",
        "        print(arrays)"
      ],
      "metadata": {
        "id": "UyRWt-m0EZ7b",
        "colab": {
          "base_uri": "https://localhost:8080/"
        },
        "outputId": "ffadcb68-6dff-43e9-d4eb-57bdd622e24d"
      },
      "execution_count": 1,
      "outputs": [
        {
          "output_type": "stream",
          "name": "stdout",
          "text": [
            "水\n",
            "金\n",
            "地\n",
            "火\n",
            "木\n",
            "土\n",
            "天\n",
            "海\n",
            "冥\n",
            "水\n",
            "金\n",
            "地\n",
            "火\n",
            "木\n",
            "土\n",
            "天\n",
            "海\n",
            "冥\n"
          ]
        }
      ]
    },
    {
      "cell_type": "code",
      "source": [
        "array = [\n",
        "    \"水\",\n",
        "    \"金\",\n",
        "    \"地\",\n",
        "    \"火\",\n",
        "    \"木\",\n",
        "    \"土\",\n",
        "    \"天\",\n",
        "    \"海\",\n",
        "    \"冥\"\n",
        "    ]\n",
        "num=0\n",
        "while num != 2:\n",
        "    for arrays in array:\n",
        "        print(arrays)\n",
        "    num=num+1"
      ],
      "metadata": {
        "colab": {
          "base_uri": "https://localhost:8080/"
        },
        "id": "DEEPpo4N59sA",
        "outputId": "6136982a-1b96-40fe-a144-b04849d4dc52"
      },
      "execution_count": 2,
      "outputs": [
        {
          "output_type": "stream",
          "name": "stdout",
          "text": [
            "水\n",
            "金\n",
            "地\n",
            "火\n",
            "木\n",
            "土\n",
            "天\n",
            "海\n",
            "冥\n",
            "水\n",
            "金\n",
            "地\n",
            "火\n",
            "木\n",
            "土\n",
            "天\n",
            "海\n",
            "冥\n"
          ]
        }
      ]
    },
    {
      "cell_type": "code",
      "source": [],
      "metadata": {
        "id": "6zP-I_TP5_un"
      },
      "execution_count": null,
      "outputs": []
    }
  ]
}