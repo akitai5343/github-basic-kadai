{
  "nbformat": 4,
  "nbformat_minor": 0,
  "metadata": {
    "colab": {
      "provenance": [],
      "gpuType": "T4"
    },
    "kernelspec": {
      "name": "python3",
      "display_name": "Python 3"
    },
    "language_info": {
      "name": "python"
    },
    "accelerator": "GPU"
  },
  "cells": [
    {
      "cell_type": "code",
      "source": [
        "tax=1.1\n",
        "price1=100\n",
        "price2=200\n",
        "def total():\n",
        "   total1=price1 + price2\n",
        "   return total1*tax\n",
        "print(total())"
      ],
      "metadata": {
        "id": "MNopeTmrrZOh",
        "outputId": "07d95d86-ee64-47bf-fd42-9e422010f6ea",
        "colab": {
          "base_uri": "https://localhost:8080/"
        }
      },
      "execution_count": 6,
      "outputs": [
        {
          "output_type": "stream",
          "name": "stdout",
          "text": [
            "330.0\n"
          ]
        }
      ]
    }
  ]
}