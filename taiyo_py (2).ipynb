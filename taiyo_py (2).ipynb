{
  "nbformat": 4,
  "nbformat_minor": 0,
  "metadata": {
    "colab": {
      "provenance": [],
      "gpuType": "T4"
    },
    "kernelspec": {
      "name": "python3",
      "display_name": "Python 3"
    },
    "language_info": {
      "name": "python"
    },
    "accelerator": "GPU"
  },
  "cells": [
    {
      "cell_type": "code",
      "execution_count": null,
      "metadata": {
        "colab": {
          "base_uri": "https://localhost:8080/"
        },
        "id": "UiacvNzbPfzY",
        "outputId": "55524598-d01c-4c14-f2d1-aaba0d3cf8e0"
      },
      "outputs": [
        {
          "output_type": "stream",
          "name": "stdout",
          "text": [
            "2\n"
          ]
        }
      ],
      "source": [
        "print(1+1)"
      ]
    },
    {
      "cell_type": "code",
      "source": [],
      "metadata": {
        "id": "NcVLChBHP6kX"
      },
      "execution_count": null,
      "outputs": []
    },
    {
      "cell_type": "code",
      "source": [
        "age=18\n",
        "if age <20 :\n",
        "  print(\"ソフトドリンクを注文\")\n",
        "else:\n",
        "    print(\"アルコールを注文\")\n"
      ],
      "metadata": {
        "colab": {
          "base_uri": "https://localhost:8080/"
        },
        "id": "Dbp70iC4RAqZ",
        "outputId": "b17a7fee-df3f-427c-813e-ecf55b3b7047"
      },
      "execution_count": null,
      "outputs": [
        {
          "output_type": "stream",
          "name": "stdout",
          "text": [
            "ソフトドリンクを注文\n"
          ]
        }
      ]
    },
    {
      "cell_type": "code",
      "source": [
        "a=10\n",
        "b=20\n",
        "c=5\n",
        "z=(a+b)*c/2\n",
        "print(z)"
      ],
      "metadata": {
        "colab": {
          "base_uri": "https://localhost:8080/"
        },
        "id": "q5jh7pMie2nB",
        "outputId": "5c34904b-699d-4b4e-e480-f60edde47eec"
      },
      "execution_count": null,
      "outputs": [
        {
          "output_type": "stream",
          "name": "stdout",
          "text": [
            "75.0\n"
          ]
        }
      ]
    },
    {
      "cell_type": "code",
      "source": [
        "a=10\n",
        "b=20\n",
        "c=5\n",
        "z=(a+b)*c/2\n",
        "print(z,\"cm²\")\n"
      ],
      "metadata": {
        "colab": {
          "base_uri": "https://localhost:8080/"
        },
        "id": "PPUsRenzz1cS",
        "outputId": "4866cb6c-81d6-42e8-d2af-4890b692f130"
      },
      "execution_count": null,
      "outputs": [
        {
          "output_type": "stream",
          "name": "stdout",
          "text": [
            "75.0 cm²\n"
          ]
        }
      ]
    },
    {
      "cell_type": "code",
      "source": [
        "city={\"東京\",\"大阪\",\"京都\",\"名古屋\"}\n",
        "print(\"げン材のデータは\",city,\"です\")\n",
        "a=input(\"追加するデータを入力してください\")\n",
        "if a in date:\n",
        "  print(\"既に存在しています\")\n",
        "else:\n",
        "　city.add (a)\n",
        "print(a,\"を追加します\")\n",
        "print(\"現在のデータは\",city,\"です\")\n"
      ],
      "metadata": {
        "id": "nkvGG0PB2TK-",
        "colab": {
          "base_uri": "https://localhost:8080/",
          "height": 106
        },
        "outputId": "442eb9d6-4a98-4445-e166-0f5e8b3d5599"
      },
      "execution_count": null,
      "outputs": [
        {
          "output_type": "error",
          "ename": "IndentationError",
          "evalue": "expected an indented block after 'else' statement on line 6 (<ipython-input-2-aac68e9c62db>, line 7)",
          "traceback": [
            "\u001b[0;36m  File \u001b[0;32m\"<ipython-input-2-aac68e9c62db>\"\u001b[0;36m, line \u001b[0;32m7\u001b[0m\n\u001b[0;31m    city.add (a)\u001b[0m\n\u001b[0m    ^\u001b[0m\n\u001b[0;31mIndentationError\u001b[0m\u001b[0;31m:\u001b[0m expected an indented block after 'else' statement on line 6\n"
          ]
        }
      ]
    },
    {
      "cell_type": "code",
      "source": [
        "city={\"東京\",\"大阪\",\"京都\",\"名古屋\"}\n",
        "print(\"げン材のデータは\",city,\"です\")\n",
        "a=input(\"追加するデータを入力してください\")\n",
        "if a in city:\n",
        "    print(\"既に存在しています\")\n",
        "else:\n",
        "    city.add (a)\n",
        "print(a,\"を追加します\")\n",
        "print(\"現在のデータは\",city,\"です\")\n"
      ],
      "metadata": {
        "colab": {
          "base_uri": "https://localhost:8080/"
        },
        "id": "WJqqNQKvzxdA",
        "outputId": "3e3d3e91-adba-4780-d0a1-46191cfee597"
      },
      "execution_count": null,
      "outputs": [
        {
          "output_type": "stream",
          "name": "stdout",
          "text": [
            "げン材のデータは {'大阪', '東京', '名古屋', '京都'} です\n",
            "追加するデータを入力してください広島\n",
            "広島 を追加します\n",
            "現在のデータは {'東京', '大阪', '広島', '京都', '名古屋'} です\n"
          ]
        }
      ]
    },
    {
      "cell_type": "code",
      "source": [
        "sale=[80,77,98,66,50]\n",
        "print(\"現在のデータは\",sale,\"です\")\n",
        "i=int(input(\"変更する番号を入力してくれ\"))\n",
        "a=int(input(\"変更後の番号を入力してくしてください\"))\n",
        "sale[i]=a\n",
        "print(\"現在のデータは\",sale,\"です\")\n"
      ],
      "metadata": {
        "colab": {
          "base_uri": "https://localhost:8080/"
        },
        "id": "hn2DzASH0Tpc",
        "outputId": "199fc105-5eba-4d4d-a2f0-a68a5927125f"
      },
      "execution_count": null,
      "outputs": [
        {
          "output_type": "stream",
          "name": "stdout",
          "text": [
            "現在のデータは [80, 77, 98, 66, 50] です\n",
            "変更する番号を入力してくれ4\n",
            "変更後の番号を入力してくしてください77\n",
            "現在のデータは [80, 77, 98, 66, 77] です\n"
          ]
        }
      ]
    },
    {
      "cell_type": "code",
      "source": [
        "array=[\"月曜日は晴れです\",\"火曜日は雨です\",\"水曜日は晴れです\",\"木曜日は晴れです\",\"金曜日は曇りです\",\"度予備は曇りのち晴れです\",\"日曜日は雷雨です\"]\n",
        "print(array[2])\n"
      ],
      "metadata": {
        "id": "Nt7jOkfQ2ECf",
        "colab": {
          "base_uri": "https://localhost:8080/"
        },
        "outputId": "b175b4c4-5501-4864-f390-e9d116beb00f"
      },
      "execution_count": 1,
      "outputs": [
        {
          "output_type": "stream",
          "name": "stdout",
          "text": [
            "水曜日は晴れです\n"
          ]
        }
      ]
    },
    {
      "cell_type": "code",
      "source": [
        "dictionary={\"mon\":\"晴れ\",\"tue\":\"雨\",\"wed\":\"晴れ\",\"thu\":\"晴れ\",\"fri\":\"曇り\",\"sat\":\"曇りのち雨\",\"sun\":\"雷雨\"}\n",
        "print(dictionary[\"wed\"])"
      ],
      "metadata": {
        "colab": {
          "base_uri": "https://localhost:8080/"
        },
        "id": "Izmm6br3wdIe",
        "outputId": "7b2f3850-a18a-4a53-a133-2cea3fd6f0a1"
      },
      "execution_count": 2,
      "outputs": [
        {
          "output_type": "stream",
          "name": "stdout",
          "text": [
            "晴れ\n"
          ]
        }
      ]
    },
    {
      "cell_type": "code",
      "source": [],
      "metadata": {
        "id": "RS5R_wtayl_P"
      },
      "execution_count": null,
      "outputs": []
    }
  ]
}