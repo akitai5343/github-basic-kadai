{
  "nbformat": 4,
  "nbformat_minor": 0,
  "metadata": {
    "colab": {
      "provenance": [],
      "gpuType": "T4"
    },
    "kernelspec": {
      "name": "python3",
      "display_name": "Python 3"
    },
    "language_info": {
      "name": "python"
    },
    "accelerator": "GPU"
  },
  "cells": [
    {
      "cell_type": "code",
      "source": [
        "def get_total(price,shohizei:float):\n",
        "    money=price * shohizei\n",
        "    print(money,\"円\")\n",
        "get_total(1500,1.1)\n"
      ],
      "metadata": {
        "id": "6zP-I_TP5_un",
        "colab": {
          "base_uri": "https://localhost:8080/"
        },
        "outputId": "8d936f88-dcc5-4289-c0c5-cfa7c5aee8f4"
      },
      "execution_count": 1,
      "outputs": [
        {
          "output_type": "stream",
          "name": "stdout",
          "text": [
            "1650.0000000000002 円\n"
          ]
        }
      ]
    },
    {
      "cell_type": "code",
      "source": [],
      "metadata": {
        "id": "EDowogOuI1Ny"
      },
      "execution_count": null,
      "outputs": []
    }
  ]
}