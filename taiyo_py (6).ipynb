{
  "nbformat": 4,
  "nbformat_minor": 0,
  "metadata": {
    "colab": {
      "provenance": [],
      "gpuType": "T4"
    },
    "kernelspec": {
      "name": "python3",
      "display_name": "Python 3"
    },
    "language_info": {
      "name": "python"
    },
    "accelerator": "GPU"
  },
  "cells": [
    {
      "cell_type": "code",
      "source": [
        "import random\n",
        "var =random.randint(0,50)\n",
        "if var%5==0 and var%3==0:\n",
        "    print(\"FizzBuzz\")\n",
        "elif var % 5==0:\n",
        "    print(\"Buzz\")\n",
        "elif  var % 3==0:\n",
        "    print(\"Fizz\")\n",
        "else:\n",
        "    print(var)\n"
      ],
      "metadata": {
        "id": "RS5R_wtayl_P",
        "outputId": "01f4466b-d3ad-44ea-f6eb-a33c85c74b76",
        "colab": {
          "base_uri": "https://localhost:8080/"
        }
      },
      "execution_count": 4,
      "outputs": [
        {
          "output_type": "stream",
          "name": "stdout",
          "text": [
            "Buzz\n"
          ]
        }
      ]
    },
    {
      "cell_type": "code",
      "source": [],
      "metadata": {
        "id": "UyRWt-m0EZ7b"
      },
      "execution_count": null,
      "outputs": []
    }
  ]
}