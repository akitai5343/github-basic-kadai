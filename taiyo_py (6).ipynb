{
  "nbformat": 4,
  "nbformat_minor": 0,
  "metadata": {
    "colab": {
      "provenance": [],
      "gpuType": "T4"
    },
    "kernelspec": {
      "name": "python3",
      "display_name": "Python 3"
    },
    "language_info": {
      "name": "python"
    },
    "accelerator": "GPU"
  },
  "cells": [
    {
      "cell_type": "code",
      "source": [
        "class Human:\n",
        "    def __init__(self):\n",
        "        self.name=\"\"\n",
        "        self.age=\"\"\n",
        "    def set_name(self,name):\n",
        "        self.name=name\n",
        "    def set_age(self,age):\n",
        "        self.age=age\n",
        "    def printinfo(self):\n",
        "        print(self.name)\n",
        "        print(self.age)\n",
        "human=Human()\n",
        "human.set_name(\"a\")\n",
        "human.set_age(36)\n",
        "human.printinfo()"
      ],
      "metadata": {
        "id": "YUai19tomm0i",
        "colab": {
          "base_uri": "https://localhost:8080/"
        },
        "outputId": "284ed72f-28d3-469a-bd11-f4a98e9c8dad"
      },
      "execution_count": 1,
      "outputs": [
        {
          "output_type": "stream",
          "name": "stdout",
          "text": [
            "a\n",
            "36\n"
          ]
        }
      ]
    },
    {
      "cell_type": "code",
      "source": [],
      "metadata": {
        "id": "7FwIEubJez46"
      },
      "execution_count": null,
      "outputs": []
    }
  ]
}